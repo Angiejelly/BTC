{
 "cells": [
  {
   "cell_type": "code",
   "execution_count": 88,
   "metadata": {
    "collapsed": true
   },
   "outputs": [],
   "source": [
    "import json,csv,time,re\n",
    "import pandas as pd\n",
    "import urllib.request\n",
    "from urllib import error\n",
    "from datetime import date, datetime, timedelta"
   ]
  },
  {
   "cell_type": "code",
   "execution_count": 99,
   "metadata": {},
   "outputs": [],
   "source": [
    "# API format of Coindesk, inspected from https://www.coindesk.com/price/ , \"Export\"\n",
    "# API Format = api_base + startdate + enddate + tail, date formate = YYYY-MM-DD\n",
    "api_base = \"https://api.coindesk.com/charts/data?output=csv&data=close&index=USD&&startdate=\"\n",
    "tail = \"&exchanges=bpi&dev=1\"\n",
    "\n",
    "# Get 1-min data of each day in range, enddate is not included;\n",
    "# When set enddate = tomorrow, we can get today's valid data\n",
    "startdate = date(2018, 1, 18)\n",
    "enddate = date(2018, 1, 19)\n",
    "\n",
    "# Only download yeasterday's data \n",
    "#enddate = date.today()\n",
    "#startdate = enddate - timedelta(1)\n"
   ]
  },
  {
   "cell_type": "code",
   "execution_count": 102,
   "metadata": {},
   "outputs": [],
   "source": [
    "# Get 1-min data of one day in one CSV file, startdate == enddate\n",
    "def get_data(date):\n",
    "    \n",
    "    end= str(date)\n",
    "    start= end +\"&enddate=\"\n",
    "    \n",
    "    api_url = api_base + start + end + tail\n",
    "    filename = \"coindesk_1min_\"+end+ '.txt'\n",
    "\n",
    "    try:\n",
    "        req = urllib.request.Request(api_url, headers={'User-Agent': 'Mozilla/5.0'})\n",
    "        data = urllib.request.urlopen(req).read()\n",
    "        data = data.decode()\n",
    "        data = re.sub('Date,\"Close Price\"','Time,Close_Price',data)\n",
    "        data = re.sub('\"','',data)\n",
    "        #data = re.sub(',','  ',data)\n",
    "        data = data.encode()\n",
    "        \n",
    "\n",
    "    except error.URLError as e:\n",
    "        if hasattr(e,'code'):\n",
    "            print (e.code)\n",
    "        if hasattr(e,'reason'):\n",
    "            print (e.reason)\n",
    "    except error.HTTPError as e:\n",
    "        if hasattr(e,'code'):\n",
    "            print(e.code)\n",
    "        if hasattr(e,'reason'):\n",
    "            print(e.reason)\n",
    "        print('HTTPError!!!') \n",
    "\n",
    "\n",
    "    with open(filename, 'wb') as f:\n",
    "        f.write(data)\n",
    "    print ('1min-interval Data of '+end+' has been downloaded!')\n",
    "    \n",
    "def dayrange(startdate, enddate, delta):\n",
    "    curr = startdate\n",
    "    while curr < enddate:\n",
    "        yield curr\n",
    "        curr += delta\n",
    "        "
   ]
  },
  {
   "cell_type": "code",
   "execution_count": 103,
   "metadata": {},
   "outputs": [
    {
     "name": "stdout",
     "output_type": "stream",
     "text": [
      "1min-interval Data of 2018-01-18 has been downloaded!\n",
      "1 data files have been downloaded\n"
     ]
    }
   ],
   "source": [
    "# Execution\n",
    "n = 0\n",
    "for day in dayrange(startdate, enddate, timedelta(days=1)):\n",
    "    get_data(day)\n",
    "    n += 1\n",
    "print (str(n)+' data files have been downloaded')"
   ]
  }
 ],
 "metadata": {
  "kernelspec": {
   "display_name": "Python 3",
   "language": "python",
   "name": "python3"
  },
  "language_info": {
   "codemirror_mode": {
    "name": "ipython",
    "version": 3
   },
   "file_extension": ".py",
   "mimetype": "text/x-python",
   "name": "python",
   "nbconvert_exporter": "python",
   "pygments_lexer": "ipython3",
   "version": "3.6.3"
  }
 },
 "nbformat": 4,
 "nbformat_minor": 2
}

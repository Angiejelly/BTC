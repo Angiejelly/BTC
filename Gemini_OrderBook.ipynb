{
 "cells": [
  {
   "cell_type": "code",
   "execution_count": null,
   "metadata": {
    "collapsed": true
   },
   "outputs": [],
   "source": [
    "import json,csv,time\n",
    "import pandas as pd\n",
    "from urllib import error\n",
    "from urllib.request import urlopen\n",
    "from datetime import date, datetime, timedelta"
   ]
  },
  {
   "cell_type": "code",
   "execution_count": null,
   "metadata": {
    "collapsed": true
   },
   "outputs": [],
   "source": [
    "# API of Gemini order book, see https://docs.gemini.com/rest-api/#current-order-book\n",
    "# It returns 100 lines \n",
    "api_url = \"https://api.gemini.com/v1/book/btcusd\"\n",
    "\n",
    "# Get data every 1 mins(60s). \n",
    "timeout = 60"
   ]
  },
  {
   "cell_type": "code",
   "execution_count": null,
   "metadata": {
    "collapsed": true
   },
   "outputs": [],
   "source": [
    "# This function runs <=1s in my computer \n",
    "def get_data(): \n",
    "    check = True\n",
    "    while check:\n",
    "        try:\n",
    "            network = json.loads(urlopen(api_url).read())\n",
    "            flag = True\n",
    "            check = False\n",
    "            #print ('Network is OK.')\n",
    "            pass\n",
    "        except:\n",
    "            print (\"Network or server issue. wait 5 min to restart\" )\n",
    "            time.sleep(300)\n",
    "            print (\"Restart...\")\n",
    "    flag = True        \n",
    "    #Get second start from zero\n",
    "    while flag:\n",
    "        bookdata = json.loads(urlopen(api_url).read())\n",
    "        timestamp = int(bookdata[\"bids\"][0][\"timestamp\"])\n",
    "        remainder1 = timestamp%60\n",
    "        if remainder1 < 1:\n",
    "            flag = False\n",
    "        else:\n",
    "            #time.sleep(0.8)\n",
    "            #print ('Waiting '+str(60 - remainder1%60)+'s to start next download.')\n",
    "            bookdata2 = json.loads(urlopen(api_url).read())\n",
    "            timestamp2 = int(bookdata[\"bids\"][0][\"timestamp\"])\n",
    "            remainder2 = timestamp2%60\n",
    "            if remainder2 < remainder1:\n",
    "                # This line may cause some deviation of time in seconds\n",
    "                # but guranteens collecting data near 0s of this minute\n",
    "                timestamp = timestamp-remainder1\n",
    "                flag = False\n",
    "\n",
    "\n",
    "\n",
    "    bids = bookdata[\"bids\"]\n",
    "    asks = bookdata[\"asks\"]\n",
    "    timestr = datetime.fromtimestamp(timestamp).strftime(\"%Y%m%d_%H%M%S\")\n",
    "\n",
    "    all_data_rw = bids+asks\n",
    "    prices = []\n",
    "    amounts = []\n",
    "    for d in all_data_rw:\n",
    "        prices.append(d[\"price\"])\n",
    "        amounts.append(d[\"amount\"])\n",
    "\n",
    "    df= pd.DataFrame(columns=[\"buy_indicator\", \"market_size\", \"price\"])\n",
    "    df[\"price\"] = prices\n",
    "    df[\"market_size\"] = amounts\n",
    "\n",
    "    df.loc[0:len(bids),(\"buy_indicator\")] = 1\n",
    "    df.loc[len(bids):, (\"buy_indicator\")] = 0\n",
    "    #print (len(bids),len(asks))\n",
    "\n",
    "    df.to_csv('bitcoin_'+timestr+'.txt', index=False, sep=' ', \n",
    "                header=[\"buy_indicator\", \"market_size\", \"price\"])\n",
    "    return timestamp"
   ]
  },
  {
   "cell_type": "code",
   "execution_count": null,
   "metadata": {
    "scrolled": true
   },
   "outputs": [],
   "source": [
    "# Execution\n",
    "count = 0\n",
    "while True :\n",
    "    timestamp = get_data()\n",
    "    count += 1\n",
    "    print (str(count) + ' Data File has been downloaded!')\n",
    "    sleept = timeout-(time.time() - timestamp+5)\n",
    "    if sleept > 0:\n",
    "        time.sleep(sleept)"
   ]
  }
 ],
 "metadata": {
  "kernelspec": {
   "display_name": "Python 3",
   "language": "python",
   "name": "python3"
  },
  "language_info": {
   "codemirror_mode": {
    "name": "ipython",
    "version": 3
   },
   "file_extension": ".py",
   "mimetype": "text/x-python",
   "name": "python",
   "nbconvert_exporter": "python",
   "pygments_lexer": "ipython3",
   "version": "3.6.0"
  }
 },
 "nbformat": 4,
 "nbformat_minor": 2
}

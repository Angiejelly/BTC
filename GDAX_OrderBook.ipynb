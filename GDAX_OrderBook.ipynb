{
 "cells": [
  {
   "cell_type": "code",
   "execution_count": null,
   "metadata": {
    "collapsed": true
   },
   "outputs": [],
   "source": [
    "import json,csv,time\n",
    "import pandas as pd\n",
    "from urllib.request import urlopen\n",
    "from urllib import error\n",
    "from datetime import date, datetime, timedelta"
   ]
  },
  {
   "cell_type": "code",
   "execution_count": null,
   "metadata": {
    "collapsed": true
   },
   "outputs": [],
   "source": [
    "# API of GDAX order book, see https://docs.gdax.com/#get-product-order-book\n",
    "api_url = \"https://api.gdax.com/products/BTC-USD/book?level=3\"\n",
    "\n",
    "# Get data every 1 mins(60s). \n",
    "timeout = 60"
   ]
  },
  {
   "cell_type": "code",
   "execution_count": null,
   "metadata": {
    "collapsed": true
   },
   "outputs": [],
   "source": [
    "# This function runs ~8s in my computer \n",
    "def get_data():\n",
    "    check = True\n",
    "    while check:\n",
    "        try:\n",
    "            network = json.loads(urlopen(api_url).read())\n",
    "            flag = True\n",
    "            check = False\n",
    "            #print ('Network is OK.')\n",
    "            pass\n",
    "        except:\n",
    "            print (\"Network or server issue. wait 5 min to restart\" )\n",
    "            time.sleep(300)\n",
    "            print (\"Restart...\")\n",
    "            \n",
    "    while flag:\n",
    "        timestamp = int(time.time())\n",
    "        if timestamp%60 == 0:\n",
    "            flag = False\n",
    "        else:\n",
    "            timestamp = int(time.time())\n",
    "            \n",
    "    bookdata = json.loads(urlopen(api_url).read())\n",
    "    timestr = datetime.fromtimestamp(timestamp).strftime(\"%Y%m%d_%H%M%S\")\n",
    "\n",
    "    bids = bookdata[\"bids\"]\n",
    "    asks = bookdata[\"asks\"]\n",
    "    all_data = list(map(list, zip(*(bids + asks))))\n",
    "\n",
    "    df= pd.DataFrame(columns=[\"buy_indicator\", \"market_size\", \"price\"])\n",
    "    df[\"price\"] = all_data[0]\n",
    "    df[\"market_size\"] = all_data[1]\n",
    "\n",
    "    df.loc[0:len(bids),(\"buy_indicator\")] = 1\n",
    "    df.loc[len(bids):, (\"buy_indicator\")] = 0\n",
    "    #print (len(bids),len(asks))\n",
    "\n",
    "    df.to_csv('bitcoin_'+timestr+'.txt', index=False, sep=' ', \n",
    "                header=[\"buy_indicator\", \"market_size\", \"price\"])"
   ]
  },
  {
   "cell_type": "code",
   "execution_count": null,
   "metadata": {
    "scrolled": true
   },
   "outputs": [],
   "source": [
    "# Execution\n",
    "count = 0\n",
    "while True :\n",
    "    count += 1\n",
    "    start_time = time.time()\n",
    "    get_data()\n",
    "    print (str(count) + ' Data File has been downloaded!')\n",
    "    sleept = timeout-(time.time() - start_time)\n",
    "    if sleept > 1:\n",
    "        time.sleep(sleept)\n",
    "        timestamp += timeout\n",
    "    "
   ]
  }
 ],
 "metadata": {
  "kernelspec": {
   "display_name": "Python 3",
   "language": "python",
   "name": "python3"
  },
  "language_info": {
   "codemirror_mode": {
    "name": "ipython",
    "version": 3
   },
   "file_extension": ".py",
   "mimetype": "text/x-python",
   "name": "python",
   "nbconvert_exporter": "python",
   "pygments_lexer": "ipython3",
   "version": "3.6.0"
  }
 },
 "nbformat": 4,
 "nbformat_minor": 2
}
